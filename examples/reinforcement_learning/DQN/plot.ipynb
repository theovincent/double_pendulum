{
 "cells": [
  {
   "cell_type": "code",
   "execution_count": null,
   "metadata": {},
   "outputs": [],
   "source": [
    "%load_ext autoreload\n",
    "%autoreload 2\n",
    "\n",
    "import numpy as np\n",
    "import json\n",
    "import matplotlib.pyplot as plt\n",
    "\n",
    "\n",
    "experiments = [\"test\"]\n",
    "\n",
    "p = json.load(open(f\"experiments/{experiments[0]}/parameters.json\"))\n",
    "\n",
    "for experiment in experiments:\n",
    "    score = np.load(f\"experiments/{experiment}/J_1.npy\")\n",
    "    plt.plot(score, label=experiment)\n",
    "\n",
    "\n",
    "plt.legend()\n",
    "plt.xlabel(f\"Epochs ({p['n_training_steps_per_epoch']} training steps)\")\n",
    "_ = plt.ylabel(f\"Undiscounted episodic reward\")"
   ]
  },
  {
   "cell_type": "code",
   "execution_count": null,
   "metadata": {},
   "outputs": [],
   "source": [
    "for experiment in experiments:\n",
    "    loss = np.load(f\"experiments/{experiment}/L_1.npy\")\n",
    "    for idx_epoch in range(0, loss.shape[0], loss.shape[0] // 4):\n",
    "        plt.plot(loss[idx_epoch], label=f\"{experiment} epoch {idx_epoch}\")\n",
    "\n",
    "\n",
    "plt.legend()\n",
    "plt.xlabel(f\"Epochs ({p['n_training_steps_per_epoch']} training steps)\")\n",
    "_ = plt.ylabel(f\"Loss\")"
   ]
  }
 ],
 "metadata": {
  "kernelspec": {
   "display_name": "env_cpu",
   "language": "python",
   "name": "python3"
  },
  "language_info": {
   "codemirror_mode": {
    "name": "ipython",
    "version": 3
   },
   "file_extension": ".py",
   "mimetype": "text/x-python",
   "name": "python",
   "nbconvert_exporter": "python",
   "pygments_lexer": "ipython3",
   "version": "3.10.12"
  },
  "orig_nbformat": 4
 },
 "nbformat": 4,
 "nbformat_minor": 2
}
