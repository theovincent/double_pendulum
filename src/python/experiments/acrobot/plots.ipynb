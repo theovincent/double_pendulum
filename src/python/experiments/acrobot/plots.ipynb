{
 "cells": [
  {
   "cell_type": "code",
   "execution_count": null,
   "metadata": {},
   "outputs": [],
   "source": [
    "%load_ext autoreload\n",
    "%autoreload 2\n",
    "\n",
    "import numpy as np\n",
    "\n",
    "\n",
    "experiments = [\"first_try\"]\n",
    "seeds = [10, 20]\n",
    "plot_std = True\n",
    "selected_epochs = np.arange(200)"
   ]
  },
  {
   "attachments": {},
   "cell_type": "markdown",
   "metadata": {},
   "source": [
    "### Extract data"
   ]
  },
  {
   "cell_type": "code",
   "execution_count": null,
   "metadata": {},
   "outputs": [],
   "source": [
    "dqn_scores = {}\n",
    "for experiment in experiments:\n",
    "    dqn_scores[experiment] = {}\n",
    "    dqn_scores[experiment] = np.zeros((200, len(seeds))) * np.nan\n",
    "    for idx_seed, seed in enumerate(seeds):\n",
    "        dqn_scores[experiment][:, idx_seed] = np.load(f\"figures/{experiment}/DQN/J_{seed}.npy\")"
   ]
  },
  {
   "attachments": {},
   "cell_type": "markdown",
   "metadata": {},
   "source": [
    "### IQM vs iterations & performance profile"
   ]
  },
  {
   "cell_type": "code",
   "execution_count": null,
   "metadata": {},
   "outputs": [],
   "source": [
    "import matplotlib.pyplot as plt\n",
    "from dqn.utils.process_scores import compute_iqm_and_confidence_interval\n",
    "\n",
    "\n",
    "plt.rc(\"font\", size=15)\n",
    "plt.rc(\"lines\", linewidth=3)\n",
    "\n",
    "for experiment in experiments:\n",
    "    iqms, iqms_confidence_interval = compute_iqm_and_confidence_interval(dqn_scores[experiment], selected_epochs)\n",
    "    plt.plot(selected_epochs + 1, iqms, label=f\"DQN {experiment}\")\n",
    "    if plot_std:\n",
    "        plt.fill_between(selected_epochs + 1, iqms_confidence_interval[0, :], iqms_confidence_interval[1, :], alpha=0.3)\n",
    "\n",
    "plt.grid(zorder=0)\n",
    "plt.xlabel(\"Number of samples (in millions)\")\n",
    "plt.ylabel(\"IQM Human Normalized Score\")\n",
    "_ = plt.legend()"
   ]
  }
 ],
 "metadata": {
  "kernelspec": {
   "display_name": "env_cpu",
   "language": "python",
   "name": "python3"
  },
  "language_info": {
   "codemirror_mode": {
    "name": "ipython",
    "version": 3
   },
   "file_extension": ".py",
   "mimetype": "text/x-python",
   "name": "python",
   "nbconvert_exporter": "python",
   "pygments_lexer": "ipython3",
   "version": "3.8.13"
  },
  "orig_nbformat": 4
 },
 "nbformat": 4,
 "nbformat_minor": 2
}
