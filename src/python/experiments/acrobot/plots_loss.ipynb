{
    "cells": [
        {
            "cell_type": "code",
            "execution_count": null,
            "metadata": {},
            "outputs": [],
            "source": [
                "%load_ext autoreload\n",
                "%autoreload 2\n",
                "\n",
                "import numpy as np\n",
                "import matplotlib.pyplot as plt\n",
                "import json\n",
                "\n",
                "experiment_name = \"first_try\"\n",
                "seed = 10\n",
                "p = json.load(open(f\"figures/{experiment_name}/parameters.json\"))"
            ]
        },
        {
            "cell_type": "code",
            "execution_count": null,
            "metadata": {},
            "outputs": [],
            "source": [
                "dqn_loss[0]"
            ]
        },
        {
            "cell_type": "code",
            "execution_count": null,
            "metadata": {},
            "outputs": [],
            "source": [
                "dqn_loss = np.load(f\"figures/{experiment_name}/DQN/L_{seed}.npy\")\n",
                "    \n",
                "for idx_epoch in range(0, 50, 5):\n",
                "    plt.plot(dqn_loss[idx_epoch], label=f\"epoch {idx_epoch + 1}\")\n",
                "\n",
                "plt.title(f\"DQN training loss\")\n",
                "plt.legend()\n",
                "_ = plt.show()"
            ]
        }
    ],
    "metadata": {
        "kernelspec": {
            "display_name": "env_cpu",
            "language": "python",
            "name": "python3"
        },
        "language_info": {
            "codemirror_mode": {
                "name": "ipython",
                "version": 3
            },
            "file_extension": ".py",
            "mimetype": "text/x-python",
            "name": "python",
            "nbconvert_exporter": "python",
            "pygments_lexer": "ipython3",
            "version": "3.8.13"
        },
        "orig_nbformat": 4,
        "vscode": {
            "interpreter": {
                "hash": "a477fb638a0b63f76b5ba5d33a8f5d5ef8f5fc2ee8a985d76813730777be51f1"
            }
        }
    },
    "nbformat": 4,
    "nbformat_minor": 2
}
